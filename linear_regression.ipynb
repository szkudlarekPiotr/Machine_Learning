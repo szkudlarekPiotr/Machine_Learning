{
 "cells": [
  {
   "attachments": {},
   "cell_type": "markdown",
   "metadata": {},
   "source": [
    "Część podstawowa (1 i 2)"
   ]
  },
  {
   "cell_type": "code",
   "execution_count": 3,
   "metadata": {},
   "outputs": [
    {
     "name": "stdout",
     "output_type": "stream",
     "text": [
      "Liczba włamań na 50 tys. mieszkańców: 83.99730747437142\n",
      "Liczba włamań na 100 tys. mieszkańców: 151.8748613607417\n",
      "Liczba włamań na 200 tys. mieszkańców: 287.6299691334823\n"
     ]
    }
   ],
   "source": [
    "import pandas as pd\n",
    "import numpy as np\n",
    "from IPython.display import display, Math, Latex\n",
    "\n",
    "data = pd.read_csv('fires_thefts.csv', sep=',', names=['f','b'])\n",
    "\n",
    "x = data['f'].to_numpy(dtype=np.float64)\n",
    "y = data['b'].to_numpy(dtype=np.float64)\n",
    "\n",
    "def h(theta, x):\n",
    "    return theta[0] + theta[1]*x\n",
    "\n",
    "\n",
    "def J(h, theta, x, y):\n",
    "    m = len(y)\n",
    "    return 1.0 / (2 * m) * sum((h(theta, x[i]) - y[i]) ** 2 for i in range(m))\n",
    "\n",
    "def costfun(fun, x, y):\n",
    "    return lambda theta: J(fun, theta, x, y)\n",
    "\n",
    "def LatexMatrix(matrix):\n",
    "    ltx = r\"\\left[\\begin{array}\"\n",
    "    m, n = matrix.shape\n",
    "    ltx += \"{\" + (\"r\" * n) + \"}\"\n",
    "    for i in range(m):\n",
    "        ltx += r\" & \".join([(\"%.4f\" % j.item()) for j in matrix[i]]) + r\" \\\\\\\\ \"\n",
    "    ltx += r\"\\end{array}\\right]\"\n",
    "    return ltx\n",
    "\n",
    "\n",
    "\n",
    "def gradient_descent(h, cost_fun, theta, x, y, alpha, eps):\n",
    "    current_cost = cost_fun(h, theta, x, y)\n",
    "    history = [\n",
    "        [current_cost, theta]\n",
    "    ]  # zapiszmy wartości kosztu i parametrów, by potem zrobić wykres\n",
    "    m = len(y)\n",
    "    while True:\n",
    "        new_theta = [\n",
    "            theta[0] - alpha / float(m) * sum(h(theta, x[i]) - y[i] for i in range(m)),\n",
    "            theta[1]\n",
    "            - alpha / float(m) * sum((h(theta, x[i]) - y[i]) * x[i] for i in range(m)),\n",
    "        ]\n",
    "        theta = new_theta  # jednoczesna aktualizacja - używamy zmiennej tymczasowej\n",
    "        try:\n",
    "            prev_cost = current_cost\n",
    "            current_cost = cost_fun(h, theta, x, y)\n",
    "        except OverflowError:\n",
    "            break\n",
    "        if abs(prev_cost - current_cost) <= eps:\n",
    "            break\n",
    "        history.append([current_cost, theta])\n",
    "    return theta, history\n",
    "\n",
    "\n",
    "\n",
    "best_theta, history = gradient_descent(h, J, [1.0, 0.0], x, y, alpha=0.001, eps=0.0001)\n",
    "\n",
    "\n",
    "print(f'Liczba włamań na 50 tys. mieszkańców: {h(best_theta, x=50.)}')\n",
    "print(f'Liczba włamań na 100 tys. mieszkańców: {h(best_theta, x=100.)}')\n",
    "print(f'Liczba włamań na 200 tys. mieszkańców: {h(best_theta, x=200.)}')"
   ]
  },
  {
   "attachments": {},
   "cell_type": "markdown",
   "metadata": {},
   "source": [
    "Część zaawansowana (1)"
   ]
  },
  {
   "cell_type": "code",
   "execution_count": 113,
   "metadata": {},
   "outputs": [
    {
     "data": {
      "text/latex": [
       "$\\displaystyle \\large\\textrm{Wynik:}\\quad \\theta = \\left[\\begin{array}{r}1.1991 \\\\\\\\ 2.0767 \\\\\\\\ \\end{array}\\right] \\quad J(\\theta) = 225.6420 \\quad \\textrm{po 1650 iteracjach}$"
      ],
      "text/plain": [
       "<IPython.core.display.Math object>"
      ]
     },
     "metadata": {},
     "output_type": "display_data"
    },
    {
     "name": "stdout",
     "output_type": "stream",
     "text": [
      "0.12152 ms\n"
     ]
    },
    {
     "data": {
      "text/latex": [
       "$\\displaystyle \\large\\textrm{Wynik:}\\quad \\theta = \\left[\\begin{array}{r}8.2426 \\\\\\\\ 1.7543 \\\\\\\\ \\end{array}\\right] \\quad J(\\theta) = 194.2693 \\quad \\textrm{po 1653 iteracjach}$"
      ],
      "text/plain": [
       "<IPython.core.display.Math object>"
      ]
     },
     "metadata": {},
     "output_type": "display_data"
    },
    {
     "name": "stdout",
     "output_type": "stream",
     "text": [
      "0.12036 ms\n"
     ]
    },
    {
     "data": {
      "text/latex": [
       "$\\displaystyle \\large\\textrm{Wynik:}\\quad \\theta = \\left[\\begin{array}{r}14.2260 \\\\\\\\ 1.4529 \\\\\\\\ \\end{array}\\right] \\quad J(\\theta) = 181.7964 \\quad \\textrm{po 48442 iteracjach}$"
      ],
      "text/plain": [
       "<IPython.core.display.Math object>"
      ]
     },
     "metadata": {},
     "output_type": "display_data"
    },
    {
     "name": "stdout",
     "output_type": "stream",
     "text": [
      "3.52597 ms\n"
     ]
    },
    {
     "data": {
      "text/latex": [
       "$\\displaystyle \\large\\textrm{Wynik:}\\quad \\theta = \\left[\\begin{array}{r}16.1198 \\\\\\\\ 1.3576 \\\\\\\\ \\end{array}\\right] \\quad J(\\theta) = 180.5487 \\quad \\textrm{po 8036 iteracjach}$"
      ],
      "text/plain": [
       "<IPython.core.display.Math object>"
      ]
     },
     "metadata": {},
     "output_type": "display_data"
    },
    {
     "name": "stdout",
     "output_type": "stream",
     "text": [
      "0.5719 ms\n"
     ]
    }
   ],
   "source": [
    "import time\n",
    "\n",
    "values = [(0.00001, 0.001), (0.001, 0.01), (0.0001, 0.0001), (0.001, 0.0001)]\n",
    "cost = []\n",
    "dur = []\n",
    "\n",
    "\n",
    "for alpha, eps in values:\n",
    "    start = time.time()\n",
    "    best_theta, history = gradient_descent(h, J, [1.0, 0.0], x, y, alpha=alpha, eps=eps)\n",
    "    stop = time.time()\n",
    "    duration = stop - start\n",
    "    dur.append(duration)\n",
    "    cost.append(history[-1][0])\n",
    "    display(\n",
    "        Math(\n",
    "            r\"\\large\\textrm{Wynik:}\\quad \\theta = \"\n",
    "            + LatexMatrix(np.matrix(best_theta).reshape(2, 1))\n",
    "            + (r\" \\quad J(\\theta) = %.4f\" % history[-1][0])\n",
    "            + r\" \\quad \\textrm{po %d iteracjach}\" % len(history)\n",
    "        )\n",
    "    )\n",
    "    print(f'{round(duration, 5)} ms')\n"
   ]
  },
  {
   "attachments": {},
   "cell_type": "markdown",
   "metadata": {},
   "source": [
    "Część zaawansowana (2)"
   ]
  },
  {
   "cell_type": "code",
   "execution_count": 114,
   "metadata": {},
   "outputs": [
    {
     "data": {
      "image/png": "[encoded data removed]",
      "text/plain": [
       "<Figure size 800x600 with 1 Axes>"
      ]
     },
     "metadata": {},
     "output_type": "display_data"
    }
   ],
   "source": [
    "import matplotlib.pyplot as plt\n",
    "\n",
    "plt.rcParams[\"figure.figsize\"] = (8,6)\n",
    "plt.plot([str(i) for i in values], cost,  'bo-', label= 'cost for different alpha and eps values')\n",
    "plt.legend()\n",
    "plt.xlabel('alpha, eps')\n",
    "plt.ylabel('cost')\n",
    "plt.show()\n",
    "\n"
   ]
  }
 ],
 "metadata": {
  "kernelspec": {
   "display_name": "Python 3",
   "language": "python",
   "name": "python3"
  },
  "language_info": {
   "codemirror_mode": {
    "name": "ipython",
    "version": 3
   },
   "file_extension": ".py",
   "mimetype": "text/x-python",
   "name": "python",
   "nbconvert_exporter": "python",
   "pygments_lexer": "ipython3",
   "version": "3.10.2"
  },
  "orig_nbformat": 4
 },
 "nbformat": 4,
 "nbformat_minor": 2
}
