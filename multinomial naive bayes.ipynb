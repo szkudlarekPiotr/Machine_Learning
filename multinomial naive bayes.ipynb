{
 "cells": [
  {
   "cell_type": "code",
   "execution_count": 2,
   "metadata": {},
   "outputs": [],
   "source": [
    "import pandas as pd\n",
    "from sklearn.naive_bayes import MultinomialNB\n",
    "from sklearn.model_selection import train_test_split\n",
    "from sklearn.metrics import accuracy_score\n",
    "\n",
    "data = pd.read_csv('mushrooms.tsv', sep=\"\\t\")\n",
    "data.columns=[\"edibility\",\"cap_shape\", \"cap_surface\", \"cap_color\", \"bruises?\", \"odor\", \"gill_attachment\", \"gill_spacing\", \"gill_size\", \"gill_color\", \"stalk_shape\", \"stalk_root\", \"stalk_surface_above_ring\", \"stalk_surface_below_ring\", \"stalk_color_above_ring\", \"stalk_color_below_ring\", \"veil_type\", \"veil_color\", \"ring_number\", \"ring_type\", \"spore_print_color\", \"population\", \"habitat\"]\n",
    "data.dropna()\n",
    "\n",
    "data[\"edible\"] = data[\"edibility\"].apply(\n",
    "    lambda x: 1 if x == 'e' else 0\n",
    ")\n",
    "\n",
    "data = data.drop(columns=[\"edibility\"])\n",
    "data = pd.get_dummies(data=data, dtype=int)\n",
    "\n",
    "features = [columns for columns in data.columns if columns!=\"edible\"]\n",
    "\n",
    "data_train, data_test = train_test_split(data, train_size=0.3)"
   ]
  },
  {
   "attachments": {},
   "cell_type": "markdown",
   "metadata": {},
   "source": [
    "### Dla 3 wybranych cech:"
   ]
  },
  {
   "cell_type": "code",
   "execution_count": 12,
   "metadata": {},
   "outputs": [
    {
     "name": "stdout",
     "output_type": "stream",
     "text": [
      "0.5655511811023622\n",
      "{'alpha': 0.0001}\n"
     ]
    }
   ],
   "source": [
    "from sklearn.model_selection import GridSearchCV\n",
    "import numpy as np\n",
    "\n",
    "y_train = pd.DataFrame(data_train[\"edible\"])\n",
    "x_train = pd.DataFrame(data_train[features[3:6]])\n",
    "y_expected = pd.DataFrame(data_test['edible'])\n",
    "x_test = pd.DataFrame(data_test[features[3:6]])\n",
    "\n",
    "mbayes = MultinomialNB(alpha=0.0001)\n",
    "mbayes.fit(x_train,y_train.values.ravel())\n",
    "y_pred = mbayes.predict(x_test)\n",
    "accuracy = accuracy_score(y_expected, y_pred)\n",
    "\n",
    "print(f'Dokładność modelu dla 3 wybranych cech: {accuracy}')\n",
    "\n",
    "# Sprawdzanie dla jakiego parametru alpha model osiąga najlepsze wyniki: \n",
    "\n",
    "parameters = {'alpha': np.arange(0.0001,1,0.001)}\n",
    "gridsearch = GridSearchCV(MultinomialNB(), parameters)\n",
    "gridsearch.fit(x_train, y_train.values.ravel())\n",
    "print(gridsearch.best_params_)"
   ]
  },
  {
   "attachments": {},
   "cell_type": "markdown",
   "metadata": {},
   "source": [
    "### Dla wszystkich cech:"
   ]
  },
  {
   "cell_type": "code",
   "execution_count": 14,
   "metadata": {},
   "outputs": [
    {
     "name": "stdout",
     "output_type": "stream",
     "text": [
      "0.9940944881889764\n",
      "{'alpha': 0.0001}\n"
     ]
    }
   ],
   "source": [
    "from sklearn.metrics import mean_squared_error\n",
    "from sklearn.model_selection import GridSearchCV\n",
    "import numpy as np\n",
    "import math \n",
    "\n",
    "y_train = pd.DataFrame(data_train[\"edible\"])\n",
    "x_train = pd.DataFrame(data_train[features])\n",
    "y_expected = pd.DataFrame(data_test['edible'])\n",
    "x_test = pd.DataFrame(data_test[features])\n",
    "\n",
    "mbayes = MultinomialNB(alpha = 0.0001)\n",
    "mbayes.fit(x_train, y_train.values.ravel())\n",
    "y_pred = mbayes.predict(x_test)\n",
    "accuracy = accuracy_score(y_expected, y_pred)\n",
    "\n",
    "print(f'Dokładność modelu dla wszystkich wybranych cech: {accuracy}')\n",
    "\n",
    "# Sprawdzanie dla jakiego parametru alpha model osiąga najlepsze wyniki: \n",
    "\n",
    "parameters = {'alpha': np.arange(0.0001,1,0.001)}\n",
    "gridsearch = GridSearchCV(MultinomialNB(), parameters)\n",
    "gridsearch.fit(x_train, y_train.values.ravel())\n",
    "print(gridsearch.best_params_)"
   ]
  }
 ],
 "metadata": {
  "kernelspec": {
   "display_name": "Python 3",
   "language": "python",
   "name": "python3"
  },
  "language_info": {
   "codemirror_mode": {
    "name": "ipython",
    "version": 3
   },
   "file_extension": ".py",
   "mimetype": "text/x-python",
   "name": "python",
   "nbconvert_exporter": "python",
   "pygments_lexer": "ipython3",
   "version": "3.11.3"
  },
  "orig_nbformat": 4
 },
 "nbformat": 4,
 "nbformat_minor": 2
}
