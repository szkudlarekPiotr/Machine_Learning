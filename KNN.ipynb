{
 "cells": [
  {
   "cell_type": "code",
   "execution_count": 1,
   "metadata": {},
   "outputs": [],
   "source": [
    "import pandas as pd\n",
    "from sklearn.model_selection import train_test_split\n",
    "\n",
    "data = pd.read_csv('mushrooms.tsv', sep=\"\\t\")\n",
    "data.columns=[\"edibility\",\"cap_shape\", \"cap_surface\", \"cap_color\", \"bruises?\", \"odor\", \"gill_attachment\", \"gill_spacing\", \"gill_size\", \"gill_color\", \"stalk_shape\", \"stalk_root\", \"stalk_surface_above_ring\", \"stalk_surface_below_ring\", \"stalk_color_above_ring\", \"stalk_color_below_ring\", \"veil_type\", \"veil_color\", \"ring_number\", \"ring_type\", \"spore_print_color\", \"population\", \"habitat\"]\n",
    "data.dropna()\n",
    "\n",
    "data[\"edible\"] = data[\"edibility\"].apply(\n",
    "    lambda x: 1 if x == 'e' else 0\n",
    ")\n",
    "\n",
    "data = data.drop(columns=[\"edibility\"])\n",
    "data = pd.get_dummies(data=data, dtype=int)\n",
    "\n",
    "features = [columns for columns in data.columns if columns!=\"edible\"]\n",
    "\n",
    "data_train, data_test = train_test_split(data, train_size=0.2)\n",
    "y_train = pd.DataFrame(data_train[\"edible\"])\n",
    "x_train = pd.DataFrame(data_train[features])\n",
    "y_expected = pd.DataFrame(data_test['edible'])\n",
    "x_test = pd.DataFrame(data_test[features])"
   ]
  },
  {
   "cell_type": "code",
   "execution_count": 2,
   "metadata": {},
   "outputs": [
    {
     "name": "stdout",
     "output_type": "stream",
     "text": [
      "Dokładność dla 3 najbliższych sąsiadów: 0.9993109388458226\n",
      "Dokładność dla 9 najbliższych sąsiadów: 0.9936261843238587\n",
      "Dokładność dla 5 najbliższych sąsiadów: 0.9989664082687338\n",
      "Dokładność dla 30 najbliższych sąsiadów: 0.9741602067183462\n"
     ]
    }
   ],
   "source": [
    "from sklearn.neighbors import KNeighborsClassifier\n",
    "from sklearn.metrics import accuracy_score\n",
    "from sklearn.model_selection import GridSearchCV\n",
    "\n",
    "#Dla 3 sąsiadów\n",
    "\n",
    "knn3 = KNeighborsClassifier(n_neighbors=3)\n",
    "knn3.fit(x_train, y_train.values.ravel())\n",
    "y_predicted = knn3.predict(x_test)\n",
    "print(f'Dokładność dla 3 najbliższych sąsiadów: {accuracy_score(y_expected, y_predicted)}')\n",
    "\n",
    "\n",
    "#Dla 9 sąsiadów\n",
    "\n",
    "knn9 = KNeighborsClassifier(n_neighbors=9)\n",
    "knn9.fit(x_train, y_train.values.ravel())\n",
    "y_predicted9 = knn9.predict(x_test)\n",
    "print(f'Dokładność dla 9 najbliższych sąsiadów: {accuracy_score(y_expected, y_predicted9)}')\n",
    "\n",
    "#Dla 5 sąsiadów\n",
    "\n",
    "knn5 = KNeighborsClassifier(n_neighbors=5)\n",
    "knn5.fit(x_train, y_train.values.ravel())\n",
    "y_predicted5 = knn5.predict(x_test)\n",
    "print(f'Dokładność dla 5 najbliższych sąsiadów: {accuracy_score(y_expected, y_predicted5)}')\n",
    "\n",
    "#Dla 30 sąsiadów\n",
    "\n",
    "knn30 = KNeighborsClassifier(n_neighbors=30)\n",
    "knn30.fit(x_train, y_train.values.ravel())\n",
    "y_predicted30 = knn30.predict(x_test)\n",
    "print(f'Dokładność dla 30 najbliższych sąsiadów: {accuracy_score(y_expected, y_predicted30)}')"
   ]
  }
 ],
 "metadata": {
  "kernelspec": {
   "display_name": "Python 3",
   "language": "python",
   "name": "python3"
  },
  "language_info": {
   "codemirror_mode": {
    "name": "ipython",
    "version": 3
   },
   "file_extension": ".py",
   "mimetype": "text/x-python",
   "name": "python",
   "nbconvert_exporter": "python",
   "pygments_lexer": "ipython3",
   "version": "3.11.3"
  },
  "orig_nbformat": 4
 },
 "nbformat": 4,
 "nbformat_minor": 2
}
