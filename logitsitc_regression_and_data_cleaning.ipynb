{
 "cells": [
  {
   "attachments": {},
   "cell_type": "markdown",
   "metadata": {},
   "source": [
    "### Przygotowanie danych\n",
    "\n"
   ]
  },
  {
   "cell_type": "code",
   "execution_count": null,
   "metadata": {},
   "outputs": [],
   "source": [
    "import pandas as pd\n",
    "\n",
    "data = pd.read_csv('titanic.tsv', sep='\\t')\n",
    "\n",
    "ddata = pd.get_dummies(data=data, columns=[\"Sex\", \"Embarked\"]) # Podzielenie kolumn \"Sex\" i \"Embarked\" na takie zawierające dane 1 lub 0\n",
    "\n",
    "ddata[\"Husband/Wife\"] = ddata[\"Name\"].apply(        # Kolumna boolean sprawdzajaca czy osoba podróżująca miała małżonka\n",
    "    lambda x: 1 if \"(\" in x.lower() else 0       \n",
    ")\n",
    "\n",
    "ddata = ddata.astype({\"Cabin\": str})                # Zmiana datatype na str\n",
    "\n",
    "ddata[\"Had_Cabin_Nr\"] = ddata[\"Cabin\"].apply(       # Kolumna boolean sprawdzająca czy osoba miala numer kabiny\n",
    "    lambda x: 0 if x == 'nan' else 1\n",
    ")\n",
    "\n",
    "ddata[\"NumericTicket\"] = ddata[\"Ticket\"].apply(     # Kolumna sprawdzająca czy numer biletu mial tylko liczby w sobie\n",
    "    lambda x: 1 if x.isdigit() else 0\n",
    ")\n",
    "\n",
    "\n",
    "final_data = ddata.drop(columns=[\"Cabin\", \"Name\", \"Ticket\"]) # Usunięcie niepotrzebnych kolumn\n",
    "\n",
    "final_data = final_data.dropna()                    # Usunięcie wartośći Nan"
   ]
  },
  {
   "attachments": {},
   "cell_type": "markdown",
   "metadata": {},
   "source": [
    "### Regresja logistyczna"
   ]
  },
  {
   "cell_type": "code",
   "execution_count": 280,
   "metadata": {},
   "outputs": [
    {
     "name": "stdout",
     "output_type": "stream",
     "text": [
      "Średnia dokładność predykcji: 0.816\n",
      "Bląd średniokwadratowy: 0.184\n",
      "Precyzja: 0.816\n",
      "Czułość: 0.816\n",
      "F-score: 0.816\n"
     ]
    }
   ],
   "source": [
    "import pandas as pd\n",
    "from sklearn.linear_model import LogisticRegression\n",
    "from sklearn.model_selection import train_test_split\n",
    "from sklearn.metrics import mean_squared_error\n",
    "from sklearn.metrics import precision_recall_fscore_support\n",
    "from sklearn.preprocessing import StandardScaler\n",
    "\n",
    "scaler = StandardScaler() # stworzenie obiektu scalera\n",
    "\n",
    "data = pd.read_csv('titanic_ready.csv') # odczytanie danych z wczesniej przygotowanego pliku\n",
    "\n",
    "Features = [\n",
    "    'Pclass',\n",
    "    'Age',\n",
    "    'Sex_female',\n",
    "    'Sex_male',\n",
    "    'Embarked_C',\n",
    "    'Embarked_Q',                   # Cechy użyte w modelu\n",
    "    'Embarked_S',\n",
    "    'Husband/Wife',\n",
    "    'Parch',\n",
    "    'SibSp',\n",
    "    'Had_Cabin_Nr'\n",
    "]\n",
    "\n",
    "data_train, data_test = train_test_split(data, train_size=0.25) # Podzielenie danych na zbior testowy i uczący\n",
    "\n",
    "\n",
    "y_train = pd.DataFrame(data[\"Survived\"])\n",
    "x_train = pd.DataFrame(data[Features])\n",
    "\n",
    "y_train = y_train.values.ravel() # zamiana danych na array 1D\n",
    "\n",
    "scaler.fit(x_train)\n",
    "x_train_scaled = scaler.transform(x_train) # Skalowanie danych uczących \n",
    "\n",
    "\n",
    "model = LogisticRegression() # określenie modelu\n",
    "model.fit(x_train_scaled, y_train)\n",
    "\n",
    "y_expected = pd.DataFrame(data_test['Survived'])\n",
    "x_test = pd.DataFrame(data_test[Features]) \n",
    "\n",
    "x_test_scaled = scaler.transform(x_test) # Skalowanie danych testowych\n",
    "\n",
    "y_predicted = model.predict(x_test_scaled) # Predykcja, czy osoba przeżyła\n",
    "\n",
    "\n",
    "error = mean_squared_error(y_expected, y_predicted) # Błąd średniokwadratowy\n",
    "\n",
    "\n",
    "precision, recall, fscore, support = precision_recall_fscore_support(y_expected, y_predicted, average='micro') #srednia wazona\n",
    "\n",
    "print(f'Średnia dokładność predykcji: {model.score(x_test_scaled, y_expected)}') # Średnia dokładność predykcji\n",
    "print(f'Bląd średniokwadratowy: {error}') # Błąd średniokwadratowy\n",
    "print(f'Precyzja: {precision}') # Precyzja\n",
    "print(f'Czułość: {recall}') # Czułość\n",
    "print(f'F-score: {fscore}') # F-score\n"
   ]
  }
 ],
 "metadata": {
  "kernelspec": {
   "display_name": "Python 3",
   "language": "python",
   "name": "python3"
  },
  "language_info": {
   "codemirror_mode": {
    "name": "ipython",
    "version": 3
   },
   "file_extension": ".py",
   "mimetype": "text/x-python",
   "name": "python",
   "nbconvert_exporter": "python",
   "pygments_lexer": "ipython3",
   "version": "3.10.2"
  },
  "orig_nbformat": 4
 },
 "nbformat": 4,
 "nbformat_minor": 2
}
